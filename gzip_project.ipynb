{
 "cells": [
  {
   "cell_type": "markdown",
   "id": "4b989a5e-8be0-4d71-848d-676f3fbb8f97",
   "metadata": {},
   "source": [
    "### Sentiment Analysis using Novel Text Compression-based Algorithm\n",
    "A text classifier using gzip and kNN-based algorithm from novel research that allegedly performs better than BERT\n",
    "Source: https://aclanthology.org/2023.findings-acl.426.pdf"
   ]
  },
  {
   "cell_type": "code",
   "execution_count": 12,
   "id": "115e0687-0da3-4dd5-9e55-2f61c39ff670",
   "metadata": {},
   "outputs": [],
   "source": [
    "import gzip\n",
    "import time\n",
    "import pandas as pd\n",
    "import numpy as np\n",
    "import multiprocessing\n",
    "from multiprocessing import Pool, Manager, Lock\n",
    "from sklearn.model_selection import train_test_split\n",
    "from sklearn.neighbors import KNeighborsClassifier"
   ]
  },
  {
   "cell_type": "code",
   "execution_count": 7,
   "id": "760ce861-998f-42c5-8aa7-ef72dd56739c",
   "metadata": {},
   "outputs": [],
   "source": [
    "# Takes in a train and test set and a k-value to determine the accuracy\n",
    "def gzip_implementation(training_set, test_set, k):\n",
    "    correct = 0\n",
    "    # We have a training_set and test_set, each consisting of an array of (text, label) - Ex. (\"I am happy!\", \"pos\")\n",
    "    for _, x1 in test_set.iterrows():\n",
    "        Cx1 = len(gzip.compress(x1['post'].encode())) # length of compressed x1\n",
    "    \n",
    "        # iterates thru the entire training set and calculates the distance from x1\n",
    "        distance_from_x1 = [] # list of distances from x1 to every text in training_set\n",
    "        for _, x2 in training_set.iterrows():\n",
    "            Cx2 = len(gzip.compress(x2['post']. encode())) # length of compressed x2\n",
    "            x1x2 = \" \".join([x1['post'], x2['post']]) # concatenate\n",
    "            Cx1x2 = len(gzip.compress(x1x2. encode())) # length of compressed concatenation x1x2\n",
    "            ncd = (Cx1x2 - min(Cx1,Cx2)) / max(Cx1, Cx2) # Normalized Compression Distance\n",
    "            distance_from_x1.append(ncd)\n",
    "        \n",
    "        sorted_idx = np.argsort(np.array(distance_from_x1)) # sorts distances from low to high\n",
    "        top_k_class = training_set.iloc[sorted_idx[:k]] # picks all distances within k\n",
    "        predict_class = top_k_class['sentiment'].mode()\n",
    "\n",
    "        # if the prediction matches test, it's a correct prediction\n",
    "        if (predict_class == x1['sentiment']).all():\n",
    "            correct += 1\n",
    "        accuracy = correct/len(test_set)\n",
    "        \n",
    "    return accuracy"
   ]
  },
  {
   "cell_type": "code",
   "execution_count": 8,
   "id": "a5f5c391-74a6-4bc0-82b4-bc0f956faf81",
   "metadata": {},
   "outputs": [
    {
     "name": "stdout",
     "output_type": "stream",
     "text": [
      "Accuracy: 0.755\n",
      "Elapsed time: 35.29414916038513\n"
     ]
    }
   ],
   "source": [
    "df = pd.read_csv('datasets/1k_data_emoji_tweets_senti_posneg.csv', usecols=['post', 'sentiment'])\n",
    "train, test = train_test_split(df, test_size=0.2, random_state=1)\n",
    "\n",
    "start = time.time()\n",
    "accuracy = gzip_implementation(train, test, k=3)\n",
    "end = time.time()\n",
    "time_taken = end - start\n",
    "\n",
    "print(f\"Accuracy: {accuracy}\")\n",
    "print(f\"Elapsed time: {time_taken}\")"
   ]
  },
  {
   "cell_type": "code",
   "execution_count": 21,
   "id": "ca7b652f-a7d5-48a0-94a4-5ee7e68fd5f4",
   "metadata": {},
   "outputs": [],
   "source": [
    "def calculate_distance(args):\n",
    "    x1, x2, lock, result_list = args\n",
    "    Cx1 = len(gzip.compress(x1['post'].encode()))\n",
    "    Cx2 = len(gzip.compress(x2['post'].encode()))\n",
    "    x1x2 = \" \".join([x1['post'], x2['post']])\n",
    "    Cx1x2 = len(gzip.compress(x1x2.encode()))\n",
    "    ncd = (Cx1x2 - min(Cx1, Cx2)) / max(Cx1, Cx2)\n",
    "\n",
    "    # implemented locks to prevent race conditions of shared list\n",
    "    with lock:\n",
    "        result_list.append(ncd)\n",
    "\n",
    "def process_x1(args):\n",
    "        x1, _, _ = args\n",
    "        distance_from_x1 = []\n",
    "\n",
    "        # arguments (for calculate_distance) for each x2 instance in the training set\n",
    "        pool_args = [(x1, x2, lock, result_list) for _, x2 in training_set.iterrows()]\n",
    "\n",
    "        # Pool to parallelize the calculation of distances for different x2 instances\n",
    "        with Pool() as pool:\n",
    "            pool.map(calculate_distance, pool_args)\n",
    "\n",
    "        # select predictions\n",
    "        sorted_idx = np.argsort(np.array(result_list))\n",
    "        top_k_class = training_set.iloc[sorted_idx[:k]]\n",
    "        predict_class = top_k_class['sentiment'].mode()\n",
    "\n",
    "        # accumulate correct values\n",
    "        if (predict_class == x1['sentiment']).all():\n",
    "            with lock: # lock for race condition of shared counter\n",
    "                correct.value += 1\n",
    "\n",
    "def gzip_multiprocess_implementation(training_set, test_set, k):\n",
    "    correct = 0\n",
    "    manager = Manager()\n",
    "    lock = manager.Lock() # instantiate lock\n",
    "    result_list = manager.list() # instantiate shared list\n",
    "    #manager = multiprocessing.Manager() # instantiate manager for shared counter\n",
    "    correct = manager.Value('i', 0) # shared counter\n",
    "\n",
    "    # arguments (for process_x1) for each x1 instance in the test set\n",
    "    pool_args_x1 = [(x1, lock, result_list) for _, x1 in test_set.iterrows()]\n",
    "\n",
    "    # parallizing the processing of each x1 instance\n",
    "    with Pool() as pool:\n",
    "        pool.map(process_x1, pool_args_x1)\n",
    "\n",
    "    accuracy = correct / len(test_set)\n",
    "    return accuracy\n"
   ]
  },
  {
   "cell_type": "code",
   "execution_count": 23,
   "id": "11abb90f-f22d-4c18-bfd2-4eda7a83e224",
   "metadata": {},
   "outputs": [
    {
     "name": "stdout",
     "output_type": "stream",
     "text": [
      "Accuracy: 0.746\n",
      "Elapsed time: 7.63580984819573\n"
     ]
    }
   ],
   "source": [
    "start = time.time()\n",
    "accuracy = gzip_multiprocess_implementation(train, test, k=3)\n",
    "end = time.time()\n",
    "time_taken = end - start\n",
    "\n",
    "print(f\"Accuracy: {accuracy}\")\n",
    "print(f\"Elapsed time: {time_taken}\")"
   ]
  }
 ],
 "metadata": {
  "kernelspec": {
   "display_name": "Python 3 (ipykernel)",
   "language": "python",
   "name": "python3"
  },
  "language_info": {
   "codemirror_mode": {
    "name": "ipython",
    "version": 3
   },
   "file_extension": ".py",
   "mimetype": "text/x-python",
   "name": "python",
   "nbconvert_exporter": "python",
   "pygments_lexer": "ipython3",
   "version": "3.8.13"
  }
 },
 "nbformat": 4,
 "nbformat_minor": 5
}
