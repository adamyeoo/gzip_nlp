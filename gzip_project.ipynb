{
 "cells": [
  {
   "cell_type": "markdown",
   "id": "4b989a5e-8be0-4d71-848d-676f3fbb8f97",
   "metadata": {},
   "source": [
    "### Sentiment Analysis using Novel Text Compression-based Algorithm\n",
    "A text classifier using gzip and kNN-based algorithm from novel research that allegedly performs better than BERT\n",
    "Source: https://aclanthology.org/2023.findings-acl.426.pdf"
   ]
  },
  {
   "cell_type": "code",
   "execution_count": 40,
   "id": "115e0687-0da3-4dd5-9e55-2f61c39ff670",
   "metadata": {},
   "outputs": [],
   "source": [
    "import gzip\n",
    "import time\n",
    "import pandas as pd\n",
    "import numpy as np\n",
    "from sklearn.model_selection import train_test_split\n",
    "from sklearn.neighbors import KNeighborsClassifier"
   ]
  },
  {
   "cell_type": "code",
   "execution_count": 32,
   "id": "760ce861-998f-42c5-8aa7-ef72dd56739c",
   "metadata": {},
   "outputs": [],
   "source": [
    "# Takes in a train and test set and a k-value to determine the accuracy\n",
    "def gzip_implementation(training_set, test_set, k):\n",
    "    correct = 0\n",
    "    # We have a training_set and test_set, each consisting of an array of (text, label) - Ex. (\"I am happy!\", \"pos\")\n",
    "    for _, x1 in test_set.iterrows():\n",
    "        Cx1 = len(gzip.compress(x1['post'].encode())) # length of compressed x1\n",
    "    \n",
    "        # iterates thru the entire training set and calculates the distance from x1\n",
    "        distance_from_x1 = [] # list of distances from x1 to every text in training_set\n",
    "        for _, x2 in training_set.iterrows():\n",
    "            Cx2 = len(gzip.compress(x2['post']. encode())) # length of compressed x2\n",
    "            x1x2 = \" \".join([x1['post'], x2['post']]) # concatenate\n",
    "            Cx1x2 = len(gzip.compress(x1x2. encode())) # length of compressed concatenation x1x2\n",
    "            ncd = (Cx1x2 - min(Cx1,Cx2)) / max(Cx1, Cx2) # Normalized Compression Distance\n",
    "            distance_from_x1.append(ncd)\n",
    "        \n",
    "        sorted_idx = np.argsort(np.array(distance_from_x1)) # sorts distances from low to high\n",
    "        top_k_class = training_set.iloc[sorted_idx[:k]] # picks all distances within k\n",
    "        predict_class = top_k_class['sentiment'].mode()\n",
    "\n",
    "        # if the prediction matches test, it's a correct prediction\n",
    "        if (predict_class == x1['sentiment']).all():\n",
    "            correct += 1\n",
    "        accuracy = correct/len(test_set)\n",
    "        \n",
    "    return accuracy"
   ]
  },
  {
   "cell_type": "code",
   "execution_count": 38,
   "id": "a5f5c391-74a6-4bc0-82b4-bc0f956faf81",
   "metadata": {},
   "outputs": [
    {
     "name": "stdout",
     "output_type": "stream",
     "text": [
      "Accuracy: 0.755\n",
      "Elapsed time: 33.4697630405426\n"
     ]
    }
   ],
   "source": [
    "df = pd.read_csv('datasets/1k_data_emoji_tweets_senti_posneg.csv', usecols=['post', 'sentiment'])\n",
    "train, test = train_test_split(df, test_size=0.2, random_state=1)\n",
    "\n",
    "start = time.time()\n",
    "accuracy = gzip_implementation(train, test, k=3)\n",
    "end = time.time()\n",
    "time_taken = end - start\n",
    "\n",
    "print(f\"Accuracy: {accuracy}\")\n",
    "print(f\"Elapsed time: {time_taken}\")"
   ]
  }
 ],
 "metadata": {
  "kernelspec": {
   "display_name": "Python 3 (ipykernel)",
   "language": "python",
   "name": "python3"
  },
  "language_info": {
   "codemirror_mode": {
    "name": "ipython",
    "version": 3
   },
   "file_extension": ".py",
   "mimetype": "text/x-python",
   "name": "python",
   "nbconvert_exporter": "python",
   "pygments_lexer": "ipython3",
   "version": "3.8.13"
  }
 },
 "nbformat": 4,
 "nbformat_minor": 5
}
